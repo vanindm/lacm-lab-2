{
 "cells": [
  {
   "cell_type": "code",
   "execution_count": 1,
   "id": "f8b307e7-cdb5-4b2d-b16a-f747846cf54b",
   "metadata": {
    "id": "f8b307e7-cdb5-4b2d-b16a-f747846cf54b"
   },
   "outputs": [],
   "source": [
    "import math\n",
    "import numpy as np\n",
    "from tqdm import tqdm\n",
    "import random"
   ]
  },
  {
   "cell_type": "code",
   "execution_count": 2,
   "id": "8187c897-d980-4562-8ffe-5de115b4aad9",
   "metadata": {
    "id": "8187c897-d980-4562-8ffe-5de115b4aad9"
   },
   "outputs": [],
   "source": [
    "sigma = lambda z :  1 / (1 - z + z ** 2 / 2) if z >= 0 else (1 + z + z ** 2 / 2)/(1 + z + z ** 2 / 2 + z ** 3 / 6)\n",
    "sigmareal = lambda z : 1 / (1 + math.exp(-z))"
   ]
  },
  {
   "cell_type": "markdown",
   "id": "152a36e3-e38f-48e1-b838-bdf5e07d057c",
   "metadata": {
    "id": "152a36e3-e38f-48e1-b838-bdf5e07d057c"
   },
   "source": [
    "# Генерация тестовой выборки"
   ]
  },
  {
   "cell_type": "code",
   "execution_count": 74,
   "id": "a922bf27-1199-490e-80b4-43d85e2905cb",
   "metadata": {
    "colab": {
     "base_uri": "https://localhost:8080/"
    },
    "id": "a922bf27-1199-490e-80b4-43d85e2905cb",
    "outputId": "c75cc5ed-b5bc-4065-bf23-60a5812b602a"
   },
   "outputs": [
    {
     "name": "stderr",
     "output_type": "stream",
     "text": [
      "100%|█████████████████████████████████████████████| 3000000/3000000 [00:40<00:00, 74727.76it/s]\n"
     ]
    }
   ],
   "source": [
    "m = 3000000\n",
    "n = 30\n",
    "w = np.array([0.69, 6.61, 7.42, 4.41, 9.23, 2.98, 6.34, 0.61, 8.15, 1.37, 5.01, 0.76, 2.14, 8.2, 9.52, 5.76, 1.1, 3.14, 8.14, 5.31, 9.75, 1.82, 4.82, 2.79, 9.48, 1.34, 7.38, 8.99, 1.59, 8.75])\n",
    "random.seed(13371337)\n",
    "testdata = [[random.gauss() / 40 for _ in range(n)] for _ in tqdm(range(m))]"
   ]
  },
  {
   "cell_type": "code",
   "execution_count": 75,
   "id": "b35484dc-1f7b-432d-820a-9040c26afaad",
   "metadata": {
    "colab": {
     "base_uri": "https://localhost:8080/"
    },
    "id": "b35484dc-1f7b-432d-820a-9040c26afaad",
    "outputId": "9320a6ce-74b7-4a14-a979-150a39a5ed37"
   },
   "outputs": [
    {
     "name": "stderr",
     "output_type": "stream",
     "text": [
      "100%|████████████████████████████████████████████| 3000000/3000000 [00:07<00:00, 422632.39it/s]\n"
     ]
    }
   ],
   "source": [
    "test = [1 if sigmareal(np.array(testdata[i]).dot(w)) >= 0.60 else 0 for i in tqdm(range(m))]"
   ]
  },
  {
   "cell_type": "markdown",
   "id": "svrQtcEzbR68",
   "metadata": {
    "id": "svrQtcEzbR68"
   },
   "source": [
    "# Перцептрон"
   ]
  },
  {
   "cell_type": "code",
   "execution_count": 90,
   "id": "305ec8f0-06aa-473b-9675-818c1aeaf660",
   "metadata": {
    "id": "305ec8f0-06aa-473b-9675-818c1aeaf660"
   },
   "outputs": [],
   "source": [
    "m = 1000000\n",
    "M = m // 4\n",
    "n = 30"
   ]
  },
  {
   "cell_type": "code",
   "execution_count": 91,
   "id": "d61fa23b-faeb-44bd-93d5-da1560cbdec5",
   "metadata": {
    "id": "d61fa23b-faeb-44bd-93d5-da1560cbdec5"
   },
   "outputs": [],
   "source": [
    "#T = np.ndarray(shape=(m,1))\n",
    "T = np.array(test[:M])"
   ]
  },
  {
   "cell_type": "code",
   "execution_count": 92,
   "id": "649a8507-40a5-4790-98e4-6ec3d5da8bc6",
   "metadata": {
    "id": "649a8507-40a5-4790-98e4-6ec3d5da8bc6"
   },
   "outputs": [],
   "source": [
    "W = 10 * np.array([1 for _ in range(30)])\n",
    "b = 10"
   ]
  },
  {
   "cell_type": "code",
   "execution_count": 93,
   "id": "35671e2e-e173-4479-911a-26be46ec8732",
   "metadata": {
    "id": "35671e2e-e173-4479-911a-26be46ec8732"
   },
   "outputs": [],
   "source": [
    "X = np.array(testdata[:M])"
   ]
  },
  {
   "cell_type": "code",
   "execution_count": 94,
   "id": "0bcb90dd-40b3-4139-8da8-3e69cace8340",
   "metadata": {
    "colab": {
     "base_uri": "https://localhost:8080/"
    },
    "id": "0bcb90dd-40b3-4139-8da8-3e69cace8340",
    "outputId": "e6ac3239-12a9-4919-8cd2-6fe724488f54"
   },
   "outputs": [
    {
     "data": {
      "text/plain": [
       "array([0.99996793, 0.999949  , 0.99982807, ..., 0.99999119, 0.99999512,\n",
       "       0.99982616], shape=(250000,))"
      ]
     },
     "execution_count": 94,
     "metadata": {},
     "output_type": "execute_result"
    }
   ],
   "source": [
    "Y = np.array(list(map(lambda x : sigmareal(x), X.dot(W) + b)))\n",
    "Y"
   ]
  },
  {
   "cell_type": "code",
   "execution_count": 95,
   "id": "b0db87a0-6c8d-4ba2-99b5-96653d5f7ad1",
   "metadata": {
    "colab": {
     "base_uri": "https://localhost:8080/",
     "height": 515
    },
    "id": "b0db87a0-6c8d-4ba2-99b5-96653d5f7ad1",
    "outputId": "d7420814-b514-45ab-91eb-4990eb362af4"
   },
   "outputs": [
    {
     "name": "stdout",
     "output_type": "stream",
     "text": [
      "6.482108694537746\n"
     ]
    }
   ],
   "source": [
    "J = - (1 / M) * sum([y[0] * math.log(y[1]) + (1 - y[0]) * math.log(1 - y[1]) for y in zip(T, Y)])\n",
    "print(J)"
   ]
  },
  {
   "cell_type": "markdown",
   "id": "-ytj1w15bUjE",
   "metadata": {
    "id": "-ytj1w15bUjE"
   },
   "source": [
    "# Обучение"
   ]
  },
  {
   "cell_type": "code",
   "execution_count": 124,
   "id": "d38094b9-c768-404d-a723-a72ace5c3b19",
   "metadata": {
    "colab": {
     "base_uri": "https://localhost:8080/",
     "height": 1000
    },
    "id": "d38094b9-c768-404d-a723-a72ace5c3b19",
    "outputId": "6a2574d9-4cad-4278-ab16-073b1eb5203c"
   },
   "outputs": [
    {
     "name": "stderr",
     "output_type": "stream",
     "text": [
      "  2%|█▏                                                        | 4/200 [00:02<01:41,  1.92it/s]\n"
     ]
    },
    {
     "ename": "KeyboardInterrupt",
     "evalue": "",
     "output_type": "error",
     "traceback": [
      "\u001b[31m---------------------------------------------------------------------------\u001b[39m",
      "\u001b[31mKeyboardInterrupt\u001b[39m                         Traceback (most recent call last)",
      "\u001b[36mCell\u001b[39m\u001b[36m \u001b[39m\u001b[32mIn[124]\u001b[39m\u001b[32m, line 2\u001b[39m\n\u001b[32m      1\u001b[39m \u001b[38;5;28;01mfor\u001b[39;00m _ \u001b[38;5;129;01min\u001b[39;00m tqdm(\u001b[38;5;28mrange\u001b[39m(\u001b[32m200\u001b[39m)):\n\u001b[32m----> \u001b[39m\u001b[32m2\u001b[39m     gradJ = [(\u001b[32m1\u001b[39m / M) * \u001b[43mnp\u001b[49m\u001b[43m.\u001b[49m\u001b[43msum\u001b[49m\u001b[43m(\u001b[49m\u001b[43m(\u001b[49m\u001b[43mY\u001b[49m\u001b[43m \u001b[49m\u001b[43m-\u001b[49m\u001b[43m \u001b[49m\u001b[43mT\u001b[49m\u001b[43m)\u001b[49m\u001b[43m \u001b[49m\u001b[43m*\u001b[49m\u001b[43m \u001b[49m\u001b[43mnp\u001b[49m\u001b[43m.\u001b[49m\u001b[43mtranspose\u001b[49m\u001b[43m(\u001b[49m\u001b[43mX\u001b[49m\u001b[43m)\u001b[49m\u001b[43m)\u001b[49m \u001b[38;5;28;01mfor\u001b[39;00m j \u001b[38;5;129;01min\u001b[39;00m (\u001b[38;5;28mrange\u001b[39m(n))]\n\u001b[32m      3\u001b[39m     db = \u001b[32m1\u001b[39m / M * np.sum(Y - T)\n\u001b[32m      4\u001b[39m     W = np.add(W, \u001b[32m0.05\u001b[39m*np.array(gradJ))\n",
      "\u001b[36mFile \u001b[39m\u001b[32m/usr/lib/python3.13/site-packages/numpy/_core/fromnumeric.py:2333\u001b[39m, in \u001b[36m_sum_dispatcher\u001b[39m\u001b[34m(a, axis, dtype, out, keepdims, initial, where)\u001b[39m\n\u001b[32m   2327\u001b[39m         \u001b[38;5;28;01mraise\u001b[39;00m \u001b[38;5;167;01mValueError\u001b[39;00m(\u001b[33m\"\u001b[39m\u001b[33mPassing `min` or `max` keyword argument when \u001b[39m\u001b[33m\"\u001b[39m\n\u001b[32m   2328\u001b[39m                          \u001b[33m\"\u001b[39m\u001b[33m`a_min` and `a_max` are provided is forbidden.\u001b[39m\u001b[33m\"\u001b[39m)\n\u001b[32m   2330\u001b[39m     \u001b[38;5;28;01mreturn\u001b[39;00m _wrapfunc(a, \u001b[33m'\u001b[39m\u001b[33mclip\u001b[39m\u001b[33m'\u001b[39m, a_min, a_max, out=out, **kwargs)\n\u001b[32m-> \u001b[39m\u001b[32m2333\u001b[39m \u001b[38;5;28;01mdef\u001b[39;00m\u001b[38;5;250m \u001b[39m\u001b[34m_sum_dispatcher\u001b[39m(a, axis=\u001b[38;5;28;01mNone\u001b[39;00m, dtype=\u001b[38;5;28;01mNone\u001b[39;00m, out=\u001b[38;5;28;01mNone\u001b[39;00m, keepdims=\u001b[38;5;28;01mNone\u001b[39;00m,\n\u001b[32m   2334\u001b[39m                     initial=\u001b[38;5;28;01mNone\u001b[39;00m, where=\u001b[38;5;28;01mNone\u001b[39;00m):\n\u001b[32m   2335\u001b[39m     \u001b[38;5;28;01mreturn\u001b[39;00m (a, out)\n\u001b[32m   2338\u001b[39m \u001b[38;5;129m@array_function_dispatch\u001b[39m(_sum_dispatcher)\n\u001b[32m   2339\u001b[39m \u001b[38;5;28;01mdef\u001b[39;00m\u001b[38;5;250m \u001b[39m\u001b[34msum\u001b[39m(a, axis=\u001b[38;5;28;01mNone\u001b[39;00m, dtype=\u001b[38;5;28;01mNone\u001b[39;00m, out=\u001b[38;5;28;01mNone\u001b[39;00m, keepdims=np._NoValue,\n\u001b[32m   2340\u001b[39m         initial=np._NoValue, where=np._NoValue):\n",
      "\u001b[31mKeyboardInterrupt\u001b[39m: "
     ]
    }
   ],
   "source": [
    "for _ in tqdm(range(200)):\n",
    "    gradJ = [(1 / M) * np.sum((Y - T) * np.transpose(X)) for j in (range(n))]\n",
    "    db = 1 / M * np.sum(Y - T)\n",
    "    W = np.add(W, -0.1*np.array(gradJ))\n",
    "    b -= 0.1*db\n",
    "    Y = np.array(list(map(lambda x : sigmareal(x), X.dot(W) + b)))\n"
   ]
  },
  {
   "cell_type": "code",
   "execution_count": 125,
   "id": "a3b8f36f-f40f-4f8c-936d-3139e808960c",
   "metadata": {
    "id": "a3b8f36f-f40f-4f8c-936d-3139e808960c",
    "outputId": "cba420b8-95f2-4ccf-dfa6-caee2b8a412e"
   },
   "outputs": [
    {
     "name": "stdout",
     "output_type": "stream",
     "text": [
      "0.40179436636331534\n",
      "0.845508\n"
     ]
    }
   ],
   "source": [
    "J = - (1 / M) * sum([y[0] * math.log(y[1]) + (1 - y[0]) * math.log(1 - y[1]) for y in zip(T, Y)])\n",
    "Acc = sum(1 if (T[i] == (Y[i] >= 0.6)) else 0 for i in range(M)) / (M)\n",
    "print(J)\n",
    "print(Acc)"
   ]
  },
  {
   "cell_type": "code",
   "execution_count": 126,
   "id": "b43e0a8e-48d8-4b33-8a3a-27cbed843311",
   "metadata": {},
   "outputs": [
    {
     "name": "stdout",
     "output_type": "stream",
     "text": [
      "0.4011772696281972\n",
      "0.845949\n"
     ]
    }
   ],
   "source": [
    "Ytest = np.array(list(map(lambda x : sigmareal(x), np.array(testdata[2*m:3*m]).dot(W) + b)))\n",
    "testtest = test[2*m:3*m]\n",
    "Jtest = - (1 / m) * sum([y[0] * math.log(y[1]) + (1 - y[0]) * math.log(1 - y[1]) for y in zip(np.array(test[2*m:3*m]), Ytest)])\n",
    "Acctest = sum(1 if ((testtest)[i] == (Ytest[i] >= 0.6)) else 0 for i in range(m)) / m\n",
    "print(Jtest)\n",
    "print(Acctest)"
   ]
  },
  {
   "cell_type": "code",
   "execution_count": null,
   "id": "e382dfdc-2c12-4287-861a-880206ab3f9c",
   "metadata": {},
   "outputs": [],
   "source": []
  }
 ],
 "metadata": {
  "colab": {
   "provenance": []
  },
  "kernelspec": {
   "display_name": "Python 3 (ipykernel)",
   "language": "python",
   "name": "python3"
  },
  "language_info": {
   "codemirror_mode": {
    "name": "ipython",
    "version": 3
   },
   "file_extension": ".py",
   "mimetype": "text/x-python",
   "name": "python",
   "nbconvert_exporter": "python",
   "pygments_lexer": "ipython3",
   "version": "3.13.3"
  }
 },
 "nbformat": 4,
 "nbformat_minor": 5
}

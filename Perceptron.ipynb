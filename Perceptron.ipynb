{
  "cells": [
    {
      "cell_type": "code",
      "execution_count": 2,
      "id": "f8b307e7-cdb5-4b2d-b16a-f747846cf54b",
      "metadata": {
        "id": "f8b307e7-cdb5-4b2d-b16a-f747846cf54b"
      },
      "outputs": [],
      "source": [
        "import math\n",
        "import numpy as np\n",
        "from tqdm import tqdm\n",
        "import random\n",
        "import matplotlib.pyplot as plt"
      ]
    },
    {
      "cell_type": "code",
      "execution_count": 3,
      "id": "8187c897-d980-4562-8ffe-5de115b4aad9",
      "metadata": {
        "id": "8187c897-d980-4562-8ffe-5de115b4aad9"
      },
      "outputs": [],
      "source": [
        "sigma = lambda z :  1 / (1 - z + z ** 2 / 2) if z >= 0 else (1 + z + z ** 2 / 2)/(1 + z + z ** 2 / 2 + z ** 3 / 6)\n",
        "sigmareal = lambda z : 1 / (1 + math.exp(-z))"
      ]
    },
    {
      "cell_type": "markdown",
      "id": "152a36e3-e38f-48e1-b838-bdf5e07d057c",
      "metadata": {
        "id": "152a36e3-e38f-48e1-b838-bdf5e07d057c"
      },
      "source": [
        "# Генерация тестовой выборки"
      ]
    },
    {
      "cell_type": "code",
      "execution_count": 4,
      "id": "a922bf27-1199-490e-80b4-43d85e2905cb",
      "metadata": {
        "colab": {
          "base_uri": "https://localhost:8080/"
        },
        "id": "a922bf27-1199-490e-80b4-43d85e2905cb",
        "outputId": "f4df2114-286a-407f-df94-2b13f943f344"
      },
      "outputs": [
        {
          "output_type": "stream",
          "name": "stderr",
          "text": [
            "100%|██████████| 3000000/3000000 [01:10<00:00, 42269.25it/s]\n"
          ]
        }
      ],
      "source": [
        "m = 3000000\n",
        "n = 30\n",
        "w = np.array([0.69, 6.61, 7.42, 4.41, 9.23, 2.98, 6.34, 0.61, 8.15, 1.37, 5.01, 0.76, 2.14, 8.2, 9.52, 5.76, 1.1, 3.14, 8.14, 5.31, 9.75, 1.82, 4.82, 2.79, 9.48, 1.34, 7.38, 8.99, 1.59, 8.75])\n",
        "random.seed(13371337)\n",
        "testdata = [[random.gauss() / 40 for _ in range(n)] for _ in tqdm(range(m))]"
      ]
    },
    {
      "cell_type": "code",
      "execution_count": 5,
      "id": "b35484dc-1f7b-432d-820a-9040c26afaad",
      "metadata": {
        "colab": {
          "base_uri": "https://localhost:8080/"
        },
        "id": "b35484dc-1f7b-432d-820a-9040c26afaad",
        "outputId": "b8e76319-75fd-4373-fbe1-203681a66a46"
      },
      "outputs": [
        {
          "output_type": "stream",
          "name": "stderr",
          "text": [
            "100%|██████████| 3000000/3000000 [00:12<00:00, 241936.84it/s]\n"
          ]
        }
      ],
      "source": [
        "test = [1 if sigmareal(np.array(testdata[i]).dot(w)) >= 0.60 else 0 for i in tqdm(range(m))]"
      ]
    },
    {
      "cell_type": "markdown",
      "id": "svrQtcEzbR68",
      "metadata": {
        "id": "svrQtcEzbR68"
      },
      "source": [
        "# Перцептрон"
      ]
    },
    {
      "cell_type": "code",
      "execution_count": 33,
      "id": "305ec8f0-06aa-473b-9675-818c1aeaf660",
      "metadata": {
        "id": "305ec8f0-06aa-473b-9675-818c1aeaf660"
      },
      "outputs": [],
      "source": [
        "m = 1000000\n",
        "M = m // 4\n",
        "n = 30"
      ]
    },
    {
      "cell_type": "code",
      "execution_count": 34,
      "id": "d61fa23b-faeb-44bd-93d5-da1560cbdec5",
      "metadata": {
        "id": "d61fa23b-faeb-44bd-93d5-da1560cbdec5"
      },
      "outputs": [],
      "source": [
        "#T = np.ndarray(shape=(m,1))\n",
        "T = np.array(test[:M])"
      ]
    },
    {
      "cell_type": "code",
      "execution_count": 35,
      "id": "649a8507-40a5-4790-98e4-6ec3d5da8bc6",
      "metadata": {
        "id": "649a8507-40a5-4790-98e4-6ec3d5da8bc6"
      },
      "outputs": [],
      "source": [
        "W = 10 * np.array([1 for _ in range(30)])\n",
        "b = 10"
      ]
    },
    {
      "cell_type": "code",
      "execution_count": 36,
      "id": "35671e2e-e173-4479-911a-26be46ec8732",
      "metadata": {
        "id": "35671e2e-e173-4479-911a-26be46ec8732"
      },
      "outputs": [],
      "source": [
        "X = np.array(testdata[:M])"
      ]
    },
    {
      "cell_type": "code",
      "execution_count": 37,
      "id": "0bcb90dd-40b3-4139-8da8-3e69cace8340",
      "metadata": {
        "colab": {
          "base_uri": "https://localhost:8080/"
        },
        "id": "0bcb90dd-40b3-4139-8da8-3e69cace8340",
        "outputId": "0ecb7687-9466-45b1-d1ed-9323205168c5"
      },
      "outputs": [
        {
          "output_type": "execute_result",
          "data": {
            "text/plain": [
              "array([0.99996793, 0.999949  , 0.99982807, ..., 0.99999119, 0.99999512,\n",
              "       0.99982616])"
            ]
          },
          "metadata": {},
          "execution_count": 37
        }
      ],
      "source": [
        "Y = np.array(list(map(lambda x : sigmareal(x), X.dot(W) + b)))\n",
        "Y"
      ]
    },
    {
      "cell_type": "code",
      "execution_count": 38,
      "id": "b0db87a0-6c8d-4ba2-99b5-96653d5f7ad1",
      "metadata": {
        "colab": {
          "base_uri": "https://localhost:8080/"
        },
        "id": "b0db87a0-6c8d-4ba2-99b5-96653d5f7ad1",
        "outputId": "2864ee1d-24f1-4f00-c101-dac161a8d167"
      },
      "outputs": [
        {
          "output_type": "stream",
          "name": "stdout",
          "text": [
            "6.482108694537746\n"
          ]
        }
      ],
      "source": [
        "J = - (1 / M) * sum([y[0] * math.log(y[1]) + (1 - y[0]) * math.log(1 - y[1]) for y in zip(T, Y)])\n",
        "print(J)"
      ]
    },
    {
      "cell_type": "markdown",
      "id": "-ytj1w15bUjE",
      "metadata": {
        "id": "-ytj1w15bUjE"
      },
      "source": [
        "# Обучение"
      ]
    },
    {
      "cell_type": "code",
      "source": [
        "epochJ = []\n",
        "epochAcc = []"
      ],
      "metadata": {
        "id": "WLuqvQILzMGZ"
      },
      "id": "WLuqvQILzMGZ",
      "execution_count": 39,
      "outputs": []
    },
    {
      "cell_type": "code",
      "execution_count": 65,
      "id": "d38094b9-c768-404d-a723-a72ace5c3b19",
      "metadata": {
        "colab": {
          "base_uri": "https://localhost:8080/"
        },
        "id": "d38094b9-c768-404d-a723-a72ace5c3b19",
        "outputId": "38eece21-7c42-4116-9d34-023aaaaa4886"
      },
      "outputs": [
        {
          "output_type": "stream",
          "name": "stderr",
          "text": [
            "100%|██████████| 1/1 [00:01<00:00,  1.39s/it]\n"
          ]
        }
      ],
      "source": [
        "for epoch in tqdm(range(1)):\n",
        "    gradJ = (1 / M) * (Y - T).dot(X)\n",
        "    norm = np.linalg.norm(gradJ)\n",
        "    gradJ /= norm\n",
        "    db = 1 / M * np.sum(Y - T)\n",
        "    db /= norm\n",
        "    W = np.add(W, -0.1*gradJ)\n",
        "    b -= 0.1*db\n",
        "    Y = np.array(list(map(lambda x : sigmareal(x), X.dot(W) + b)))\n",
        "    if epoch % 10 == 0:\n",
        "      J = - (1 / M) * sum([y[0] * math.log(y[1]) + (1 - y[0]) * math.log(1 - y[1]) for y in zip(T, Y)])\n",
        "      epochJ.append(J)\n",
        "      epochAcc.append(sum(1 if (T[i] == (Y[i] >= 0.6)) else 0 for i in range(M)) / (M))\n"
      ]
    },
    {
      "cell_type": "code",
      "execution_count": 68,
      "id": "a3b8f36f-f40f-4f8c-936d-3139e808960c",
      "metadata": {
        "id": "a3b8f36f-f40f-4f8c-936d-3139e808960c",
        "outputId": "25343ad5-2a18-4fdb-f827-047f7555072d",
        "colab": {
          "base_uri": "https://localhost:8080/"
        }
      },
      "outputs": [
        {
          "output_type": "stream",
          "name": "stdout",
          "text": [
            "0.482732623863067\n",
            "0.852884\n"
          ]
        }
      ],
      "source": [
        "J = - (1 / M) * sum([y[0] * math.log(y[1]) + (1 - y[0]) * math.log(1 - y[1]) for y in zip(T, Y)])\n",
        "Acc = sum(1 if (T[i] == (Y[i] >= 0.21)) else 0 for i in range(M)) / (M)\n",
        "print(J)\n",
        "print(Acc)"
      ]
    },
    {
      "cell_type": "code",
      "execution_count": 69,
      "id": "b43e0a8e-48d8-4b33-8a3a-27cbed843311",
      "metadata": {
        "colab": {
          "base_uri": "https://localhost:8080/"
        },
        "id": "b43e0a8e-48d8-4b33-8a3a-27cbed843311",
        "outputId": "0bcd2ad0-226b-4a7f-9cbe-198cb20cd229"
      },
      "outputs": [
        {
          "output_type": "stream",
          "name": "stdout",
          "text": [
            "0.48198599286211496\n",
            "0.853512\n"
          ]
        }
      ],
      "source": [
        "Ytest = np.array(list(map(lambda x : sigmareal(x), np.array(testdata[2*m:3*m]).dot(W) + b)))\n",
        "testtest = test[2*m:3*m]\n",
        "Jtest = - (1 / m) * sum([y[0] * math.log(y[1]) + (1 - y[0]) * math.log(1 - y[1]) for y in zip(np.array(test[2*m:3*m]), Ytest)])\n",
        "Acctest = sum(1 if ((testtest)[i] == (Ytest[i] >= 0.21)) else 0 for i in range(m)) / m\n",
        "print(Jtest)\n",
        "print(Acctest)"
      ]
    },
    {
      "cell_type": "code",
      "execution_count": 70,
      "id": "e382dfdc-2c12-4287-861a-880206ab3f9c",
      "metadata": {
        "colab": {
          "base_uri": "https://localhost:8080/",
          "height": 448
        },
        "id": "e382dfdc-2c12-4287-861a-880206ab3f9c",
        "outputId": "df1dab8c-f13d-4f54-b49f-9eafd7abfced"
      },
      "outputs": [
        {
          "output_type": "execute_result",
          "data": {
            "text/plain": [
              "[<matplotlib.lines.Line2D at 0x7975d6fa69d0>]"
            ]
          },
          "metadata": {},
          "execution_count": 70
        },
        {
          "output_type": "display_data",
          "data": {
            "text/plain": [
              "<Figure size 640x480 with 1 Axes>"
            ],
            "image/png": "[encoded data removed]"
          },
          "metadata": {}
        }
      ],
      "source": [
        "plt.plot(np.array(epochJ))\n",
        "plt.plot(np.array(epochAcc))"
      ]
    }
  ],
  "metadata": {
    "colab": {
      "provenance": []
    },
    "kernelspec": {
      "display_name": "Python 3 (ipykernel)",
      "language": "python",
      "name": "python3"
    },
    "language_info": {
      "codemirror_mode": {
        "name": "ipython",
        "version": 3
      },
      "file_extension": ".py",
      "mimetype": "text/x-python",
      "name": "python",
      "nbconvert_exporter": "python",
      "pygments_lexer": "ipython3",
      "version": "3.13.3"
    }
  },
  "nbformat": 4,
  "nbformat_minor": 5
}